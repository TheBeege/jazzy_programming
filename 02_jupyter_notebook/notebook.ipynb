{
 "cells": [
  {
   "cell_type": "markdown",
   "metadata": {},
   "source": [
    "# Jupyter Notebook\n",
    "Congratulations on opening your first Jupyter Notebook! For the rest of this, we'll be working in Jupyter Notebook to help you become more familiar with it, provide both code and notes side-by-side, and provide places for you to try out your own code. \n",
    "\n",
    "## Cells\n",
    "Jupyter Notebook has the concept of cells, likely an idea taken from the cells of Microsoft Excel spreadsheets. There are three kinds of cells. We'll go over each one. Everything you see in a notebook is a cell. You can double-click a cell to edit it. To finalize a cell, click the play button at the top. In programming, the play button acts as the \"Run\" button. Basically, just click it to make stuff happen :)\n",
    "\n",
    "You can also reorder cells. Each cell can be clicked and dragged to swap places with other cells. Unfortunately, it doesn't seem like you can place cells side-by-side. This is only for vertical ordering. \n",
    "\n",
    "Lastly, you can select the type of a cell with the dropdown up above. \n",
    "\n",
    "With that, let's dive into each type of cell.\n",
    "\n",
    "### Raw\n",
    "Raw cells are simply raw text. They're unformatted, simple text. See the one below:"
   ]
  },
  {
   "cell_type": "raw",
   "metadata": {},
   "source": [
    "This is raw text.\n",
    "Such raw.\n",
    "So text.\n",
    "Wow."
   ]
  },
  {
   "cell_type": "markdown",
   "metadata": {},
   "source": [
    "You'll notice it looks slightly different from what else is written so far. This is because we've been writing in Markdown to this point. Markdown can get complicated, so we're covering it last. Raw text is good for when you want to show some sort of text without any specific formatting. This is good for CSV data, JSON data, or anything that shouldn't be considered more \"human\" information. At least, that's what I can gather. Often, gray text in a console font is meant for showing data or code.\n",
    "\n",
    "### Code\n",
    "Yep, you guessed it. Code cells are where you write your Python code. When you click the play button up top, Jupyter Notebook will execute that code and show and printed output beneath the code. Check it out."
   ]
  },
  {
   "cell_type": "code",
   "execution_count": 3,
   "metadata": {},
   "outputs": [
    {
     "name": "stdout",
     "output_type": "stream",
     "text": [
      "Hello world!\n"
     ]
    }
   ],
   "source": [
    "print('Hello world!')"
   ]
  },
  {
   "cell_type": "markdown",
   "metadata": {},
   "source": [
    "You'll also notice that the code is notated with \\[3\\]. This is the counter of which run the code is within this notebook. If you run the same code 3 times, and it's the only code in the notebook, it will have a 3. If you have ten code blocks, and each one is run from the beginning in order, they'll be numbered in the order they were ran in. This has more utility, but we'll cover it later once we've gotten into some code.\n",
    "\n",
    "### Markdown\n",
    "Markdown cells are where most of your notes will be. Markdown is a simple text format for making human-readable text look pretty with minimal effort. Markdown cells are where the text you're reading right now are. Markdown is simple enough that a cheatsheet/reference should suffice. I would say most people never really learn Markdown as much as just lookup how to do a specific format when they need it. I tend to use [this cheatsheet on github](https://github.com/adam-p/markdown-here/wiki/Markdown-Cheatsheet). You'll want to put most of your notes in Markdown cells to keep it easy on the eyes for both you, your colleagues, and your customers."
   ]
  },
  {
   "cell_type": "markdown",
   "metadata": {},
   "source": [
    "## Kernels\n",
    "Kernels are another way of saying Python installations. Two versions of Python are popular right now: Python 2 and Python 3. Due to this and minor versions, e.g. Python 3.5 vs Python 3.6, Jupyter allows you to switch between kernels at will, minimizing the pain of version differences. Anaconda provides the ability to create kernels (or Python environments) using a specification file, basically a file denoting the version of Python and any libraries you'll need. To mess with environments/kernals available to Anaconda and Jupyter Notebook, go to `Environments` on the left side within Anaconda Navigator and click `Import` under the environment listing. Ideally, you shouldn't need to mess with this very often."
   ]
  },
  {
   "cell_type": "markdown",
   "metadata": {},
   "source": [
    "## Messing Around and Next Steps\n",
    "Now, take some time to mess with Markdown, Raw, and Code cells. Try dragging things around. Mess with all of the features to help yourself get comfortable.\n",
    "\n",
    "Once you feel ready, go back up on folder on the left side, and dive into the `03_procedural_python` folder to continue on. Great job so far!"
   ]
  },
  {
   "cell_type": "code",
   "execution_count": null,
   "metadata": {},
   "outputs": [],
   "source": []
  }
 ],
 "metadata": {
  "kernelspec": {
   "display_name": "Python 3",
   "language": "python",
   "name": "python3"
  },
  "language_info": {
   "codemirror_mode": {
    "name": "ipython",
    "version": 3
   },
   "file_extension": ".py",
   "mimetype": "text/x-python",
   "name": "python",
   "nbconvert_exporter": "python",
   "pygments_lexer": "ipython3",
   "version": "3.7.0"
  }
 },
 "nbformat": 4,
 "nbformat_minor": 2
}
