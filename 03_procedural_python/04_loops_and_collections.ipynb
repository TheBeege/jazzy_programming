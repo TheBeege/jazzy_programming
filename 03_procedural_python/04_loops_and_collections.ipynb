{
 "cells": [
  {
   "cell_type": "markdown",
   "metadata": {},
   "source": [
    "# Loops and Collections \n",
    "\n",
    "Now for loops! Loops are how your program can accomplish the same logic multiple times with little effort on your part. Let's dive in, cuz this one is suuuuper long. You ready?"
   ]
  },
  {
   "cell_type": "code",
   "execution_count": 1,
   "metadata": {},
   "outputs": [
    {
     "name": "stdout",
     "output_type": "stream",
     "text": [
      "i is:  0\n",
      "i is:  1\n",
      "i is:  2\n",
      "i is:  3\n",
      "i is:  4\n",
      "i is:  5\n",
      "i is:  6\n",
      "i is:  7\n",
      "i is:  8\n",
      "i is:  9\n"
     ]
    }
   ],
   "source": [
    "for i in range(10):\n",
    "    print('i is: ', i)"
   ]
  },
  {
   "cell_type": "markdown",
   "metadata": {},
   "source": [
    "There's actually a lot going on here, so let's finally break it down. \n",
    "1. The `for` indicates to Python that we're starting a loop. \n",
    "2. Following `for`, we have our iterating variable. The iterating variable is the name for the variable that will store the information changing for each step of the loop. In this case, we're using `i`. It's often used as short-hand for \"index\". \n",
    "3. Following the iterating variable is the keyword `in`, which tells Python that some sort of collection is coming next. The collection is a number of some values all grouped into one sort of structure. We'll get into collections in greater detail in a short bit. \n",
    "4. After the collection is a colon `:`, followed by the indented code that will be repeated until no items are left in the collection. \n",
    "\n",
    "For each execution of the loop, the iterating variable will be set to a value from the collection, in order. This will print 'i is: 0' followed by 'i is: 1' followed by 'i is: 2' all the way up to 'i is: 9'. `range` is a function that spits out of a list of numbers from 0 up to and excluding the given number. Why? In programming, we count from 0. Counting from 0 to 9 gives us 10 total numbers. What else can range do?"
   ]
  },
  {
   "cell_type": "code",
   "execution_count": 2,
   "metadata": {},
   "outputs": [
    {
     "name": "stdout",
     "output_type": "stream",
     "text": [
      "j is:  15\n",
      "j is:  16\n",
      "j is:  17\n",
      "j is:  18\n",
      "j is:  19\n"
     ]
    }
   ],
   "source": [
    "for j in range(15, 20):\n",
    "    print('j is: ', j)"
   ]
  },
  {
   "cell_type": "markdown",
   "metadata": {},
   "source": [
    "Note: I used `j` to make the print output easier to discern. You could just use `i` again without any problems. This will print 15 through 19. When providing two parameters to the `range` funciton, it will print the first parameter up to and excluding the second parameter. It can do more, as well"
   ]
  },
  {
   "cell_type": "code",
   "execution_count": 3,
   "metadata": {},
   "outputs": [
    {
     "name": "stdout",
     "output_type": "stream",
     "text": [
      "i is:  25\n",
      "i is:  24\n",
      "i is:  23\n",
      "i is:  22\n",
      "i is:  21\n"
     ]
    }
   ],
   "source": [
    "for i in range(25, 20, -1):\n",
    "    print('i is: ', i)"
   ]
  },
  {
   "cell_type": "markdown",
   "metadata": {},
   "source": [
    "If you give a third parameter to `range`, it will count by that number between the first two parameters. In this case, we start with 25, and we count down to and excluding 20 going by -1 at a time. So this will print the numbers 25, 24, 23, 22, 21 in that order. Let's do one more example"
   ]
  },
  {
   "cell_type": "code",
   "execution_count": 4,
   "metadata": {},
   "outputs": [
    {
     "name": "stdout",
     "output_type": "stream",
     "text": [
      "j is 50\n",
      "j is 60\n",
      "j is 70\n",
      "j is 80\n",
      "j is 90\n"
     ]
    }
   ],
   "source": [
    "for j in range(50, 100, 10):\n",
    "    print('j is', j)"
   ]
  },
  {
   "cell_type": "markdown",
   "metadata": {},
   "source": [
    "This will count by 10 from 50 up to and excluding 100. This is useful for doing the same operation over and over again. But how does it actually work under the hood? Let's bring a collection into the mix, and we can demonstrate that."
   ]
  },
  {
   "cell_type": "code",
   "execution_count": 5,
   "metadata": {},
   "outputs": [
    {
     "name": "stdout",
     "output_type": "stream",
     "text": [
      "i is 9\n",
      "i is 3\n",
      "i is 17\n",
      "i is 10\n",
      "i is 11\n"
     ]
    }
   ],
   "source": [
    "for i in (9, 3, 17, 10, 11):\n",
    "    print('i is', i)"
   ]
  },
  {
   "cell_type": "markdown",
   "metadata": {},
   "source": [
    "Let's unpack this. In this example, instead of using a `range` function for our collection, we have something called a tuple. A tuple is a group of values in some order, and it is immutable - it cannot be changed. To create a tuple, just surround some values with parenthesis `()` separated by commas `,`. In this example, `i` will first be set to 9, then the loop's block will be executed. Next, `i` will be set to 3, and the block will execute again. This finishes with 11, after which point the loop stops, and the program continues going down. One key thing about a tuple is that it cannot be changed. Why is this useful? It's a way to communicate with the developer. \n",
    "\n",
    "Here's an example. Say you're writing a database library. To change data in the database, you need to connect to the database, send a request for the data you want to get, receive the response, parse the response, and format it in a way to be used. To change the data in the database requires a similar level of effort. When you give data to the programmer from the database, you probably want to give them a tuple. This is because you want to communicate to the developer that simply changing the data in this collection will not change what's in the database. You have to go through some large operation to do that. By preventing the developer from changing the data you give them, you communicate this very clearly, forcing them to do the extra work if they want to change the value in the database. \n",
    "\n",
    "But enough on that, how else can you use a tuple?"
   ]
  },
  {
   "cell_type": "code",
   "execution_count": 6,
   "metadata": {},
   "outputs": [],
   "source": [
    "x = (5, 8, 3, 6, 0, 3, -1)"
   ]
  },
  {
   "cell_type": "markdown",
   "metadata": {},
   "source": [
    "What if I only want the second value from the tuple?"
   ]
  },
  {
   "cell_type": "code",
   "execution_count": 7,
   "metadata": {},
   "outputs": [
    {
     "name": "stdout",
     "output_type": "stream",
     "text": [
      "second value in tuple x: 8\n"
     ]
    }
   ],
   "source": [
    "print('second value in tuple x:', x[1])"
   ]
  },
  {
   "cell_type": "markdown",
   "metadata": {},
   "source": [
    "But dude, I want the second value. Why the hell did you write 1? We count from 0 in programming, remember? When working with a tuple, you can put square brackets `[]` after it surrounding a number to indicate which value you want out o the tuple. Fancy, right? What if I only want to print the second through fifth values?"
   ]
  },
  {
   "cell_type": "code",
   "execution_count": 8,
   "metadata": {},
   "outputs": [
    {
     "name": "stdout",
     "output_type": "stream",
     "text": [
      "i as the second through fifth values of x: 8\n",
      "i as the second through fifth values of x: 3\n",
      "i as the second through fifth values of x: 6\n",
      "i as the second through fifth values of x: 0\n"
     ]
    }
   ],
   "source": [
    "for i in x[1:5]:\n",
    "    print('i as the second through fifth values of x:', i)"
   ]
  },
  {
   "cell_type": "markdown",
   "metadata": {},
   "source": [
    "You can use a colon `:` inside the square brackets to denote which values you want to go through. This effectively creates a new tuple as `(8, 3, 6, 0)` and loops through it. What if we want all but the first value?"
   ]
  },
  {
   "cell_type": "code",
   "execution_count": 9,
   "metadata": {},
   "outputs": [
    {
     "name": "stdout",
     "output_type": "stream",
     "text": [
      "i as all but the first of x: 8\n",
      "i as all but the first of x: 3\n",
      "i as all but the first of x: 6\n",
      "i as all but the first of x: 0\n",
      "i as all but the first of x: 3\n",
      "i as all but the first of x: -1\n"
     ]
    }
   ],
   "source": [
    "for i in x[1:]:\n",
    "    print('i as all but the first of x:', i)"
   ]
  },
  {
   "cell_type": "markdown",
   "metadata": {},
   "source": [
    "If you leave off the second value after the colon, it will just go to the end. But what about all values but the last?"
   ]
  },
  {
   "cell_type": "code",
   "execution_count": 10,
   "metadata": {},
   "outputs": [
    {
     "name": "stdout",
     "output_type": "stream",
     "text": [
      "i as all but the last of x: 5\n",
      "i as all but the last of x: 8\n",
      "i as all but the last of x: 3\n",
      "i as all but the last of x: 6\n",
      "i as all but the last of x: 0\n",
      "i as all but the last of x: 3\n"
     ]
    }
   ],
   "source": [
    "for i in x[:-1]:\n",
    "    print('i as all but the last of x:', i)"
   ]
  },
  {
   "cell_type": "markdown",
   "metadata": {},
   "source": [
    "Not bad. What if I told you that this was kind of like `range`?"
   ]
  },
  {
   "cell_type": "code",
   "execution_count": 12,
   "metadata": {},
   "outputs": [
    {
     "name": "stdout",
     "output_type": "stream",
     "text": [
      "i as all of x but backwards: -1\n",
      "i as all of x but backwards: 3\n",
      "i as all of x but backwards: 0\n",
      "i as all of x but backwards: 6\n",
      "i as all of x but backwards: 3\n",
      "i as all of x but backwards: 8\n",
      "i as all of x but backwards: 5\n"
     ]
    }
   ],
   "source": [
    "for i in x[::-1]:\n",
    "    print('i as all of x but backwards:', i)"
   ]
  },
  {
   "cell_type": "markdown",
   "metadata": {},
   "source": [
    "Mind. Blown. Leave out the first value, and it goes to the end. Leave out the second value, and it goes to the end. You can have a second colon with a third value to specify how you should step, just like `range`. Pretty nifty. But hey, tuples aren't the only type of collection. Let's check out more."
   ]
  },
  {
   "cell_type": "code",
   "execution_count": 13,
   "metadata": {},
   "outputs": [],
   "source": [
    "x = [5, 2, 0, 'hi', -1, True, None]"
   ]
  },
  {
   "cell_type": "markdown",
   "metadata": {},
   "source": [
    "This is a list. It's ordered, like a tuple. Unlike a tuple, it uses square brackets `[]` to denote itself and is mutable - you can change it. Tuples can also store different types of values, but I wasn't thinking about that before. So let's demonstrate some of that mutable goodness"
   ]
  },
  {
   "cell_type": "code",
   "execution_count": 14,
   "metadata": {},
   "outputs": [
    {
     "name": "stdout",
     "output_type": "stream",
     "text": [
      "x before: [5, 2, 0, 'hi', -1, True, None]\n",
      "x after: [10, 2, 0, 'hi', -1, True, None]\n"
     ]
    }
   ],
   "source": [
    "print('x before:', x)\n",
    "x[0] = 10\n",
    "print('x after:', x)"
   ]
  },
  {
   "cell_type": "markdown",
   "metadata": {},
   "source": [
    "This is how you can change a value inside a list. What about adding to a list?"
   ]
  },
  {
   "cell_type": "code",
   "execution_count": 15,
   "metadata": {},
   "outputs": [
    {
     "name": "stdout",
     "output_type": "stream",
     "text": [
      "x after adding a value: [10, 2, 0, 'hi', -1, True, None, 'added!']\n"
     ]
    }
   ],
   "source": [
    "x.append('added!')\n",
    "print('x after adding a value:', x)"
   ]
  },
  {
   "cell_type": "markdown",
   "metadata": {},
   "source": [
    "Nice. Removing a value?"
   ]
  },
  {
   "cell_type": "code",
   "execution_count": 16,
   "metadata": {},
   "outputs": [
    {
     "name": "stdout",
     "output_type": "stream",
     "text": [
      "x after removing the added value: [10, 2, 0, 'hi', -1, True, None]\n"
     ]
    }
   ],
   "source": [
    "x.pop(-1)\n",
    "print('x after removing the added value:', x)"
   ]
  },
  {
   "cell_type": "markdown",
   "metadata": {},
   "source": [
    "Now here's something cool"
   ]
  },
  {
   "cell_type": "code",
   "execution_count": 17,
   "metadata": {},
   "outputs": [
    {
     "name": "stdout",
     "output_type": "stream",
     "text": [
      "value removed: 10 -- x: [2, 0, 'hi', -1, True, None]\n"
     ]
    }
   ],
   "source": [
    "value_removed = x.pop(0)\n",
    "print('value removed:', value_removed, '-- x:', x)"
   ]
  },
  {
   "cell_type": "markdown",
   "metadata": {},
   "source": [
    "Pop not only removes the value at the given index (position) from the list. It also returns it for use. An alternative is del:"
   ]
  },
  {
   "cell_type": "code",
   "execution_count": 18,
   "metadata": {},
   "outputs": [
    {
     "name": "stdout",
     "output_type": "stream",
     "text": [
      "x after del: [0, 'hi', -1, True, None]\n"
     ]
    }
   ],
   "source": [
    "del(x[0])\n",
    "print('x after del:', x)"
   ]
  },
  {
   "cell_type": "markdown",
   "metadata": {},
   "source": [
    "This removes the value without returning it. Granted, it would only be a miniscule performance gain, but it's a thing.\n",
    "\n",
    "What about this?"
   ]
  },
  {
   "cell_type": "code",
   "execution_count": 19,
   "metadata": {},
   "outputs": [],
   "source": [
    "y = [1, 2, 3, 4]\n",
    "z = x + y"
   ]
  },
  {
   "cell_type": "markdown",
   "metadata": {},
   "source": [
    "Adding lists?!"
   ]
  },
  {
   "cell_type": "code",
   "execution_count": 20,
   "metadata": {},
   "outputs": [
    {
     "name": "stdout",
     "output_type": "stream",
     "text": [
      "z: [0, 'hi', -1, True, None, 1, 2, 3, 4]\n"
     ]
    }
   ],
   "source": [
    "print('z:', z)"
   ]
  },
  {
   "cell_type": "markdown",
   "metadata": {},
   "source": [
    "This... actually makes sense. Adding two lists creates a new list with the contents of both. Here you'll get 0, 'hi', -1, True, None, 1, 2, 3, 4. Magical. But what other collections are there?"
   ]
  },
  {
   "cell_type": "code",
   "execution_count": 21,
   "metadata": {},
   "outputs": [
    {
     "name": "stdout",
     "output_type": "stream",
     "text": [
      "x: {1, 2, 3}\n"
     ]
    }
   ],
   "source": [
    "x = {1, 2, 3, 3, 3, 3, 3}\n",
    "print('x:', x)"
   ]
  },
  {
   "cell_type": "markdown",
   "metadata": {},
   "source": [
    "This is a set. A set allows only one of each value. All of those repeating 3's will simply disappear. Be aware: sets do not preserve order. The major purpose of sets is for handling duplicates. While we're at it, let's do a cool trick:"
   ]
  },
  {
   "cell_type": "code",
   "execution_count": 22,
   "metadata": {},
   "outputs": [
    {
     "name": "stdout",
     "output_type": "stream",
     "text": [
      "4 is in x? False\n",
      "3 in x? True\n"
     ]
    }
   ],
   "source": [
    "print('4 is in x?', 4 in x)\n",
    "print('3 in x?', 3 in x)"
   ]
  },
  {
   "cell_type": "markdown",
   "metadata": {},
   "source": [
    "Remember when we were checking if help was in helpful? Turns out, strings are kind of a type of collection - they're a string of characters, a collection of characters. The `in` operator works for any collection. Now, what if I want a collection of things, but I want to keep track of them by name instead of by position or to just see if they exist uniquely?"
   ]
  },
  {
   "cell_type": "code",
   "execution_count": 23,
   "metadata": {},
   "outputs": [
    {
     "name": "stdout",
     "output_type": "stream",
     "text": [
      "x: {'key': 'value', 'bob_age': 30, 10: 'ten'}\n"
     ]
    }
   ],
   "source": [
    "x = {'key': 'value', 'bob_age': 30, 10: 'ten'}\n",
    "print('x:', x)"
   ]
  },
  {
   "cell_type": "markdown",
   "metadata": {},
   "source": [
    "Notice this uses curly brackets like a set, but it's something different. Python calls this a dictionary - a set of key-value pairs. Take a look."
   ]
  },
  {
   "cell_type": "code",
   "execution_count": 24,
   "metadata": {},
   "outputs": [
    {
     "name": "stdout",
     "output_type": "stream",
     "text": [
      "x[\"key\"]: value\n",
      "x[10]: ten\n"
     ]
    }
   ],
   "source": [
    "print('x[\"key\"]:', x['key'])\n",
    "print('x[10]:', x[10])"
   ]
  },
  {
   "cell_type": "markdown",
   "metadata": {},
   "source": [
    "Here, 'key' and 10 are the keys in the dictionary. They are bound to the values 'value' and 'ten', respectively. This way, if you need to reference something by a name, you can do so easily. When talking about dictionaries with other developers, it might be helpful to know they're also called maps or hash tables. Maps are what they're called in languages like Java and Javascript. A hash table is a specific way of creating a dictionary. Now, what if I want to iterate through this? What if I want to access all of the contents?"
   ]
  },
  {
   "cell_type": "code",
   "execution_count": 25,
   "metadata": {},
   "outputs": [
    {
     "name": "stdout",
     "output_type": "stream",
     "text": [
      "x key: key\n",
      "x key: bob_age\n",
      "x key: 10\n",
      "x value: value\n",
      "x value: 30\n",
      "x value: ten\n"
     ]
    }
   ],
   "source": [
    "for key in x.keys():\n",
    "    print('x key:', key)\n",
    "\n",
    "for value in x.values():\n",
    "    print('x value:', value)"
   ]
  },
  {
   "cell_type": "markdown",
   "metadata": {},
   "source": [
    "Dictionaries have the methods `keys()` and `values()` to output a collection of the keys and values of the dictionary, respectively. Here's a neat trick"
   ]
  },
  {
   "cell_type": "code",
   "execution_count": 26,
   "metadata": {},
   "outputs": [
    {
     "name": "stdout",
     "output_type": "stream",
     "text": [
      "key: key -- value: value\n",
      "key: bob_age -- value: 30\n",
      "key: 10 -- value: ten\n"
     ]
    }
   ],
   "source": [
    "for key in x.keys():\n",
    "    print('key:', key, '-- value:', x[key])"
   ]
  },
  {
   "cell_type": "markdown",
   "metadata": {},
   "source": [
    "This is a nifty way to access all the keys and values as needed. Just use the key to access the value. Alternatively, if you want to get super fancy..."
   ]
  },
  {
   "cell_type": "code",
   "execution_count": 27,
   "metadata": {},
   "outputs": [
    {
     "name": "stdout",
     "output_type": "stream",
     "text": [
      "items - key: key -- value: value\n",
      "items - key: bob_age -- value: 30\n",
      "items - key: 10 -- value: ten\n"
     ]
    }
   ],
   "source": [
    "for key, value in x.items():\n",
    "    print('items - key:', key, '-- value:', value)"
   ]
  },
  {
   "cell_type": "markdown",
   "metadata": {},
   "source": [
    "I wanted to tell you both ways of doing this because I know that sometimes I forget this method is called items(). Now, a little bit about what's going on under the hood here. The `items()` method actually returns a tuple each time it's called. The first item in that tuple is the key, and the second item in that tuple is the value. Effectively, we're doing multiple assignments when doing the aboves. You can set multiple variables at the same time from a collection. This is called unpacking. Let's demonstrate in a standalone way"
   ]
  },
  {
   "cell_type": "code",
   "execution_count": 28,
   "metadata": {},
   "outputs": [
    {
     "name": "stdout",
     "output_type": "stream",
     "text": [
      "x: a\n",
      "y: 1\n",
      "z: True\n"
     ]
    }
   ],
   "source": [
    "x, y, z = ('a', 1, True)\n",
    "print('x:', x)\n",
    "print('y:', y)\n",
    "print('z:', z)"
   ]
  },
  {
   "cell_type": "markdown",
   "metadata": {},
   "source": [
    "Python unpacks each item in the collection, assigning it to the corresponding variable, in order. The `items()` function essentially does this. Let's get complicated real quick"
   ]
  },
  {
   "cell_type": "code",
   "execution_count": 29,
   "metadata": {},
   "outputs": [
    {
     "name": "stdout",
     "output_type": "stream",
     "text": [
      "the_big_one: {'some_list': [5, 10, 3.1, 3.142857142857143, True, 'lol'], 'da_set': {False}, 'dict': {'key': 'val', 'name': 'Jazzimus Maximus'}}\n"
     ]
    }
   ],
   "source": [
    "the_big_one = {\n",
    "    'some_list': [5, 10, 3.1, 22/7, True, 'lol'],\n",
    "    'da_set': {False, False, False, False},\n",
    "    'dict': {'key': 'val', 'name': 'Jazzimus Maximus'}\n",
    "}\n",
    "print('the_big_one:', the_big_one)"
   ]
  },
  {
   "cell_type": "markdown",
   "metadata": {},
   "source": [
    "Yes, you can put collections inside each other. This is _super_ useful, but can get really confusing, too. Let's play with this a bit"
   ]
  },
  {
   "cell_type": "code",
   "execution_count": 30,
   "metadata": {},
   "outputs": [
    {
     "name": "stdout",
     "output_type": "stream",
     "text": [
      "last in list: lol\n"
     ]
    }
   ],
   "source": [
    "print('last in list:', the_big_one['some_list'][-1])"
   ]
  },
  {
   "cell_type": "markdown",
   "metadata": {},
   "source": [
    "When nesting (or putting one inside another) collections, you can reference them one by one. So using `['some_list']` pulls out the list value from the top-level dictionary. At that point, the list takes the place of `the_big_one['some-list']`, so we can now treat that whole thing as a list. By doing `[-1]` after that, we're accessing the last item in the list. In this way, you can have N-dimensional space in code. Theoretical physicists love this. Okay, one last thing before we're done with this"
   ]
  },
  {
   "cell_type": "code",
   "execution_count": 31,
   "metadata": {},
   "outputs": [
    {
     "name": "stdout",
     "output_type": "stream",
     "text": [
      "list x: [2, 5, 2, 7, 10, 10]\n",
      "set x: {2, 10, 5, 7}\n"
     ]
    }
   ],
   "source": [
    "x = [2, 5, 2, 7, 10, 10]\n",
    "print('list x:', x)\n",
    "x = set(x)\n",
    "print('set x:', x)"
   ]
  },
  {
   "cell_type": "markdown",
   "metadata": {},
   "source": [
    "This is type conversion. The variable `x` starts as a list. The `set()` function converts it to a set, removing duplicates. This works for all types, if a conversion makes sense from one type to the other"
   ]
  },
  {
   "cell_type": "code",
   "execution_count": 32,
   "metadata": {},
   "outputs": [
    {
     "name": "stdout",
     "output_type": "stream",
     "text": [
      "tuple x: (2, 10, 5, 7)\n",
      "list x: [2, 10, 5, 7]\n"
     ]
    }
   ],
   "source": [
    "x = tuple(x)\n",
    "print('tuple x:', x)\n",
    "x = list(x)\n",
    "print('list x:', x)"
   ]
  },
  {
   "cell_type": "markdown",
   "metadata": {},
   "source": [
    "You'll notice in the printed output that the symbols around the collection change to match the type of collection it is. Type conversion is useful for  making a tuple mutable or removing duplicates from something.\n",
    "\n",
    "Great job! At this point, you've covered most of the basic constructs. Next, we'll work on more real-world stuff, like reading files and downloading data from the internet"
   ]
  },
  {
   "cell_type": "code",
   "execution_count": null,
   "metadata": {},
   "outputs": [],
   "source": []
  }
 ],
 "metadata": {
  "kernelspec": {
   "display_name": "Python 3",
   "language": "python",
   "name": "python3"
  },
  "language_info": {
   "codemirror_mode": {
    "name": "ipython",
    "version": 3
   },
   "file_extension": ".py",
   "mimetype": "text/x-python",
   "name": "python",
   "nbconvert_exporter": "python",
   "pygments_lexer": "ipython3",
   "version": "3.7.0"
  }
 },
 "nbformat": 4,
 "nbformat_minor": 2
}
