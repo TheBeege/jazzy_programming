{
 "cells": [
  {
   "cell_type": "markdown",
   "metadata": {},
   "source": [
    "# Conditions\n",
    "Now for conditions! Conditions are how programs make decisions. They're part of a larger set of constructs called \"control flow\", since they control the flow of the program or which code will and won't be executed. The logic is \"if this, then that\" where \"this\" is some test of truth, and \"that\" is what to do if the test is true. Let's get to it"
   ]
  },
  {
   "cell_type": "code",
   "execution_count": 1,
   "metadata": {},
   "outputs": [
    {
     "name": "stdout",
     "output_type": "stream",
     "text": [
      "True is true\n"
     ]
    }
   ],
   "source": [
    "if True:\n",
    "    print('True is true')"
   ]
  },
  {
   "cell_type": "markdown",
   "metadata": {},
   "source": [
    "The test of truth is whatever is between the `if` and the colon `:`. If whatever is there evaluates to `True`, the condition passes. If the condition passes, then whatever is indented beneath it will execute, until the indentation stops. The colon is effectively the \"then\". So what constitutes truth?"
   ]
  },
  {
   "cell_type": "code",
   "execution_count": 2,
   "metadata": {},
   "outputs": [],
   "source": [
    "if 5 > 10:\n",
    "    print('5 is greater than 10')"
   ]
  },
  {
   "cell_type": "markdown",
   "metadata": {},
   "source": [
    "This will evaluate to `False` and not print. Comparison operators, such as `<`, `>`, `<=`, `>=`, `==`, and `!=` evaluate to either `True` or `False`:\n",
    "* `<` Less than\n",
    "* `>` Greater than\n",
    "* `<=` Less than or equal to\n",
    "* `>=` Greater than or equal to\n",
    "* `==` Equal to\n",
    "* `!=` Not equal to\n",
    "Notice that `==` uses two equal signs. This is to distinguish between assignment, like with variables, and comparison, like here. In some languages the act of assignment can be `True` or `False`, so many languages, Python included, make the distinction between the two operations. But what if we want to do something only if a condition fails?"
   ]
  },
  {
   "cell_type": "code",
   "execution_count": 3,
   "metadata": {},
   "outputs": [
    {
     "name": "stdout",
     "output_type": "stream",
     "text": [
      "5 is not greater than 10\n"
     ]
    }
   ],
   "source": [
    "if 5 > 10:\n",
    "    print('5 is greater than 10')\n",
    "else:\n",
    "    print('5 is not greater than 10')"
   ]
  },
  {
   "cell_type": "markdown",
   "metadata": {},
   "source": [
    "`else` is similar to `if` in that it controls whether code is run. If the immediately preceding condition passes the truth test, then the indented content below else (also called, the code block for `else`) is not executed. If the preceding condition(s) fail, then the `else` is run. In the case above, `'5 is not greater than 10'` will be printed, since the test for `5 > 10` does not evaluate to `True`."
   ]
  },
  {
   "cell_type": "code",
   "execution_count": 4,
   "metadata": {},
   "outputs": [
    {
     "name": "stdout",
     "output_type": "stream",
     "text": [
      "10 is equal to 10\n"
     ]
    }
   ],
   "source": [
    "if 5 > 10:\n",
    "    print('5 is greater than 10')\n",
    "elif 10 == 10:\n",
    "    print('10 is equal to 10')\n",
    "else:\n",
    "    print('Neither 5 is greater than 10 nor is 10 equal to 10')"
   ]
  },
  {
   "cell_type": "markdown",
   "metadata": {},
   "source": [
    "The `elif` bit is a combination of `else` and `if`. Like `if`, it also does a test of truth, but like `else`, it will only run if all preceding conditions in the same block do not pass their tests of truth. So in the case above, `5 > 10` fails, so the program continues in the block. Following this, it sees the `elif` and checks the condition. Ends up that `10 == 10` passes the test of truth. The `elif`'s code block is executed, and all remaining `else`s in this code block are ignored. This can get complicated, but it does allow you to create complex logic."
   ]
  },
  {
   "cell_type": "code",
   "execution_count": 5,
   "metadata": {},
   "outputs": [
    {
     "name": "stdout",
     "output_type": "stream",
     "text": [
      "10 is equal to 10 once\n"
     ]
    }
   ],
   "source": [
    "if 5 > 10:\n",
    "    print('5 is greater than 10')\n",
    "elif 10 == 10:\n",
    "    print('10 is equal to 10 once')\n",
    "elif 10 == 10:\n",
    "    print('10 is equal to 10 twice')\n",
    "elif 10 == 10:\n",
    "    print('10 is equal to 10 thrice')\n",
    "else:\n",
    "    print('Neither 5 is greater than 10 nor is 10 equal to 10')"
   ]
  },
  {
   "cell_type": "markdown",
   "metadata": {},
   "source": [
    "The first condition fails the test of truth, and since the 'once' block is the first once that passes, all of the remaining ones are ignored."
   ]
  },
  {
   "cell_type": "code",
   "execution_count": 6,
   "metadata": {},
   "outputs": [
    {
     "name": "stdout",
     "output_type": "stream",
     "text": [
      "10 is equal to 10 once\n",
      "10 is equal to 10 thrice\n"
     ]
    }
   ],
   "source": [
    "if 5 > 10:\n",
    "    print('5 is greater than 10')\n",
    "elif 10 == 10:\n",
    "    print('10 is equal to 10 once')\n",
    "elif 10 == 10:\n",
    "    print('10 is equal to 10 twice')\n",
    "if 10 == 10:\n",
    "    print('10 is equal to 10 thrice')\n",
    "else:\n",
    "    print('Neither 5 is greater than 10 nor is 10 equal to 10')"
   ]
  },
  {
   "cell_type": "markdown",
   "metadata": {},
   "source": [
    "The once and thrice prints will show up. Since the `if` of thrice starts a new condition block, the previous conditions don't play into this condition's decision. This can get complicated. Normally, for readability, you would add an extra newline in between the two condition blocks to make it easier to distinguish for your future self. Now, is everything only comparisons?"
   ]
  },
  {
   "cell_type": "code",
   "execution_count": 7,
   "metadata": {},
   "outputs": [
    {
     "name": "stdout",
     "output_type": "stream",
     "text": [
      "help is a part of helpful\n"
     ]
    }
   ],
   "source": [
    "if 'help' in 'helpful':\n",
    "    print('help is a part of helpful')"
   ]
  },
  {
   "cell_type": "markdown",
   "metadata": {},
   "source": [
    "There are other operations that evaluate to `True` or `False`. Here we have the `in` operator, which checks to see, in this case, if one string is within another. The above evalutes to `True`, and the text runs. What about other, more unusual cases?"
   ]
  },
  {
   "cell_type": "code",
   "execution_count": 8,
   "metadata": {},
   "outputs": [
    {
     "name": "stdout",
     "output_type": "stream",
     "text": [
      "None is false\n"
     ]
    }
   ],
   "source": [
    "if None:\n",
    "    print('None is true')\n",
    "else:\n",
    "    print('None is false')"
   ]
  },
  {
   "cell_type": "markdown",
   "metadata": {},
   "source": [
    "In Python, almost everything evaluates to either `True` or `False`. Here, we have the construct `None`. `None` represents a lack of information. As such, the creators of Python decided it should evaluate to `False` when being tested for truth. As such, `'None is false'` is printed. What about more cases?"
   ]
  },
  {
   "cell_type": "code",
   "execution_count": 9,
   "metadata": {},
   "outputs": [
    {
     "name": "stdout",
     "output_type": "stream",
     "text": [
      "hello is equal to hello\n"
     ]
    }
   ],
   "source": [
    "if 'hello' == 'goodbye':\n",
    "    print('hello is equal to goodbye')\n",
    "elif 'hello' == 'hello':\n",
    "    print('hello is equal to hello')\n",
    "else:\n",
    "    print('hello is not equal to goodbye or hello')"
   ]
  },
  {
   "cell_type": "markdown",
   "metadata": {},
   "source": [
    "We can also compare strings of text. The only valuable comparisons are equality and inequality. Less than and greater than do work, but they're not easily read and should be avoided. I don't even know how their comparisons work. Can we get fancier with comparisons?"
   ]
  },
  {
   "cell_type": "code",
   "execution_count": 10,
   "metadata": {},
   "outputs": [
    {
     "name": "stdout",
     "output_type": "stream",
     "text": [
      "The length of aaaa is equal to the length of bbbb\n"
     ]
    }
   ],
   "source": [
    "if len('aaaa') == len('bbbb'):\n",
    "    print('The length of aaaa is equal to the length of bbbb')"
   ]
  },
  {
   "cell_type": "markdown",
   "metadata": {},
   "source": [
    "We can always get fancier. Everything evaluates somehow. Above, we're using the `len()` or length function on strings. These are evaluated before the comparison takes place. The final comparison ends up being `4 == 4`. You could do this with any function and any value. Just make sure to not go overboard and to keep things readable. Now, what if we wanted more complicated logic?"
   ]
  },
  {
   "cell_type": "code",
   "execution_count": 11,
   "metadata": {},
   "outputs": [
    {
     "name": "stdout",
     "output_type": "stream",
     "text": [
      "Either true or false is true\n"
     ]
    }
   ],
   "source": [
    "if True and False:\n",
    "    print('Both true and false are true')\n",
    "elif True or False:\n",
    "    print('Either true or false is true')"
   ]
  },
  {
   "cell_type": "markdown",
   "metadata": {},
   "source": [
    "We can always get more complicated, too. The best way to explain how this works is to show a truth table, which you can also find on the internet by that name.\n",
    "\n",
    "|  First   |  Second   | `and` result | `or` result |\n",
    "|----------|-----------|------------|-----------|\n",
    "|  True    |   True    |  True      |   True    |\n",
    "|  True    |   False   |  False     |   True    |\n",
    "|  False   |   True    |  False     |   True    |\n",
    "|  False   |   False   |  False     |   False   |\n",
    "\n",
    "For the `and` operator, the values on both sides of it must be `True`, or it will evaluate to `False`. For the `or` operator, if either side evaluates to `True`, it will evaluate to `True`. If both sides are `False`, it evaluates to `False`. Python does not have the XOR and NAND operators. If you need these, you can accomplish them with comparisons, parenthesis, and not. See below"
   ]
  },
  {
   "cell_type": "code",
   "execution_count": 12,
   "metadata": {},
   "outputs": [
    {
     "name": "stdout",
     "output_type": "stream",
     "text": [
      "Poor man's NAND\n"
     ]
    }
   ],
   "source": [
    "if not (10 < 5) and not (5 > 10):\n",
    "    print(\"Poor man's NAND\")"
   ]
  },
  {
   "cell_type": "markdown",
   "metadata": {},
   "source": [
    "Yeah, this is gross. NAND is only `True` if both inputs are `False`. To accomplish this without NAND, we test two conditions for being `False`. We do this by taking either side, wrapping it in parenthesis to group it, and appling a `not` to invert the result. To go through it in detail, `10` is not less than `5`, so it evaluates to `False`. The `not` is then applied to it, turning it from `False` to `True`. We do the same with the other side of the `and`. We end up with `True` on both sides, making our `and` evaluate to `True`. This gives us our NAND operation - it is only `True` if both sides are `False`"
   ]
  },
  {
   "cell_type": "code",
   "execution_count": 13,
   "metadata": {},
   "outputs": [
    {
     "name": "stdout",
     "output_type": "stream",
     "text": [
      "Poor man's XOR\n"
     ]
    }
   ],
   "source": [
    "if 5 == 5 and not (1 == 5):\n",
    "    print(\"Poor man's XOR\")"
   ]
  },
  {
   "cell_type": "markdown",
   "metadata": {},
   "source": [
    "XOR is only true if one input is `True` and the other is `False`. We can do this by using an `and` with a `not` on one side. It's not quite as robust as a true XOR, since we have to be specific as to which side is `True` and which side is `False`, but a real XOR would be much more complicated.\n",
    "\n",
    "This is one of the more complicated early topics, but you got through it! Good job! Maybe take some time to experiment with your own conditions to make sure you've got it~"
   ]
  }
 ],
 "metadata": {
  "kernelspec": {
   "display_name": "Python 3",
   "language": "python",
   "name": "python3"
  },
  "language_info": {
   "codemirror_mode": {
    "name": "ipython",
    "version": 3
   },
   "file_extension": ".py",
   "mimetype": "text/x-python",
   "name": "python",
   "nbconvert_exporter": "python",
   "pygments_lexer": "ipython3",
   "version": "3.7.0"
  }
 },
 "nbformat": 4,
 "nbformat_minor": 2
}
