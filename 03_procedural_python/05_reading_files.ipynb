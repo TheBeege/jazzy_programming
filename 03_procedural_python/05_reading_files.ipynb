{
 "cells": [
  {
   "cell_type": "markdown",
   "metadata": {},
   "source": [
    "# Reading Files\n",
    "Now for the good stuff. So let's say you got some sweet, juicy data off of [Kaggle](https://www.kaggle.com/) or something. That data is gonna be in a file or a collection of files. We're gonna go over how to get a hold of that data to do all the things with it."
   ]
  },
  {
   "cell_type": "code",
   "execution_count": 2,
   "metadata": {},
   "outputs": [],
   "source": [
    "from pathlib import Path"
   ]
  },
  {
   "cell_type": "markdown",
   "metadata": {},
   "source": [
    "Surprise! What's this? It's a module. Modules are magical and terrifying. Modules are libraries of code to do stuff for you, since we're not here to reinvent the wheel. `Path` is a new thing in Python 3 (I had to look it up) that allows you to get the filesystem path of a file. Since I don't know exactly how you're going to be running this program, I'm going to use this to make sure I'm in the correct directory (the directory of this notebook) "
   ]
  },
  {
   "cell_type": "code",
   "execution_count": 4,
   "metadata": {},
   "outputs": [
    {
     "name": "stdout",
     "output_type": "stream",
     "text": [
      "script_dir: C:\\Users\\draco\\projects\\jazzy_programming\\03_procedural_python\n"
     ]
    }
   ],
   "source": [
    "script_dir = Path().resolve()\n",
    "print('script_dir:', script_dir)"
   ]
  },
  {
   "cell_type": "markdown",
   "metadata": {},
   "source": [
    "This gets you the directory of the this script. Using `pathlib`'s `Path`, we can get the absolute path to this notebook on the filesystem. There's a little bit of object-oriented stuff going on here, so please pardon a bit of hand-waving. Just know that this is how you can get the current notebook's directory."
   ]
  },
  {
   "cell_type": "code",
   "execution_count": 5,
   "metadata": {},
   "outputs": [
    {
     "name": "stdout",
     "output_type": "stream",
     "text": [
      "sample_file_path: C:\\Users\\draco\\projects\\jazzy_programming\\03_procedural_python\\supporting_files\\sample_file.txt\n"
     ]
    }
   ],
   "source": [
    "sample_file_path = script_dir.joinpath('supporting_files')\\\n",
    "    .joinpath('sample_file.txt')\n",
    "print('sample_file_path:', sample_file_path)"
   ]
  },
  {
   "cell_type": "markdown",
   "metadata": {},
   "source": [
    "At this point, we have a `Path` that points to our sample file. Pardon the backslash followed by a newline and tab. That's just a way to keep the line from getting too long. Now, let's open up our file."
   ]
  },
  {
   "cell_type": "code",
   "execution_count": 7,
   "metadata": {},
   "outputs": [
    {
     "name": "stdout",
     "output_type": "stream",
     "text": [
      "contents of sample_file.txt: Hello world!\n",
      "\n"
     ]
    }
   ],
   "source": [
    "with sample_file_path.open() as file:\n",
    "    print('contents of sample_file.txt:', file.read())"
   ]
  },
  {
   "cell_type": "markdown",
   "metadata": {},
   "source": [
    "At this point, we use our `Path` to open up the file and store it in a variable called `file`. This `with ... as ...:` is specific to opening streaming data. Streaming data could be something like a file or a network connection to some other data. The `with` indicates that we're opening a stream, and the indented block beneath it should be executed while the stream (file) is open. When the indentation stops, the stream (file) will be closed an inaccessible. This is useful because the operating system may put a lock on the file while it's open, preventing other programs from accessing it. Additionally, having files open costs some amount of resources, so you want to make sure to reclaim the resources spent opening the file as quickly as possible. The `with` construct just makes it easier. It does all the closing and checking for you.\n",
    "\n",
    "Tada! You've read the contents of the file. After opening a file, you can use `read()` to capture all of its contents.\n",
    "\n",
    "But what if you want to edit the file? We can't actually do that here. The way we've opened this file, we can only read from it. Honestly, you probably won't need to edit files terrible much, so we're not gonna worry about that for now. Let's try working with a file line by line"
   ]
  },
  {
   "cell_type": "code",
   "execution_count": 10,
   "metadata": {},
   "outputs": [
    {
     "name": "stdout",
     "output_type": "stream",
     "text": [
      "line: This file has several lines.\n",
      "\n",
      "line: This is to demonstrate reading a file line by line.\n",
      "\n",
      "line: Don't go into the dark.\n",
      "\n",
      "line: You'll get eaten by a gru.\n",
      "\n",
      "line_list: ['This file has several lines.', 'This is to demonstrate reading a file line by line.', \"Don't go into the dark.\", \"You'll get eaten by a gru.\"]\n"
     ]
    }
   ],
   "source": [
    "sample_file_path = sample_file_path.parent.joinpath('multiline.txt')\n",
    "with sample_file_path.open() as file:\n",
    "    line_list = []\n",
    "\n",
    "    for line in file:\n",
    "        print('line:', line)\n",
    "        line_list.append(line.strip())\n",
    "print('line_list:', line_list)"
   ]
  },
  {
   "cell_type": "markdown",
   "metadata": {},
   "source": [
    "Okay, we've gone back to the `supporting_files` directory and grabbed the file `multiline.txt`. We've opened it up, and now we can work with it. When you iterate over a file like it was a collection, Python does some smart stuff for you. It treats each line like an item in a collection. You'll notice the output may look a little weird. Python is adding a newline character at the end, and this is shown when you print it. Regardless, this is a good way to get data out of a file when you want to work line by line. If you're going to be doing some heavy lifting, I recommend you read all the data into a list, let the file close, then play with the list.\n",
    "\n",
    "Notice how we create `line_list` before we start looping. If we created it inside the loop, it would be recreated every time the loop ran, giving us a list with only the last line. Instead, we create an empty list before looping, then we append the line each time we loop through. The `strip()` function strips any whitespace off the end of a string, including newlines.\n",
    "\n",
    "Now, we have a nice, clean list of lines from the file, and the file is closed.\n",
    "\n",
    "So... that's all good, but we can do better. Chances are, the data you're grabbing is in some sort of format, most like a CSV or comma separated values. Luckily, Python has a built-in library specifically for that. Let's try it."
   ]
  },
  {
   "cell_type": "code",
   "execution_count": 11,
   "metadata": {},
   "outputs": [],
   "source": [
    "sample_file_path = sample_file_path.parent.joinpath('people.csv')"
   ]
  },
  {
   "cell_type": "markdown",
   "metadata": {},
   "source": [
    "Get the path to our file. This is my first time using `pathlib`... It's WAY easier than how we used to do it. Back in my day, we had to count out bits up a one mile hill covered in snow and convert the binary to text #oldGeezerThings\n"
   ]
  },
  {
   "cell_type": "code",
   "execution_count": 12,
   "metadata": {},
   "outputs": [
    {
     "name": "stdout",
     "output_type": "stream",
     "text": [
      "csv row: ['name', 'email', 'profession']\n",
      "csv row: ['Beege', 'beege@beege.com', 'Engineer']\n",
      "csv row: ['Jazzy', 'jazzy@maximus.awesome', 'Data Scientist']\n",
      "csv row: ['Leonidus', 'sparta@greek.net', 'SPARTAAAAAAAAAAA']\n",
      "row name: Beege\n",
      "row email: beege@beege.com\n",
      "row profession: Engineer\n",
      "---------------------\n",
      "row name: Jazzy\n",
      "row email: jazzy@maximus.awesome\n",
      "row profession: Data Scientist\n",
      "---------------------\n",
      "row name: Leonidus\n",
      "row email: sparta@greek.net\n",
      "row profession: SPARTAAAAAAAAAAA\n",
      "---------------------\n"
     ]
    }
   ],
   "source": [
    "import csv\n",
    "with sample_file_path.open() as file:\n",
    "    csv_reader = csv.reader(file)\n",
    "  \n",
    "    for row in csv_reader:\n",
    "        print('csv row:', row)\n",
    "    \n",
    "    file.seek(0)\n",
    "    # This puts us back at the beginning of the file\n",
    "\n",
    "    csv_reader = csv.DictReader(file)\n",
    "    for row in csv_reader:\n",
    "        print('row name:', row['name'])\n",
    "        print('row email:', row['email'])\n",
    "        print('row profession:', row['profession'])\n",
    "        print('---------------------')"
   ]
  },
  {
   "cell_type": "markdown",
   "metadata": {},
   "source": [
    "Oh baby. Now we're cooking with fire. First, we need to import the `csv` library to get out our bag of fairy dust. Next, we just say fuck it, and dump the file into our fairy dust bag's `reader()` function. The `csv` library does different things for reading and writing, but you're likely going to be more concerned with reading. After that, we can iterate through it just like we would a file. This time, however, each iteration will give us a list.\n",
    "\n",
    "Each row is now a list we can do stuff with. But hey, notice how the first list is actually the field names for the remaining rows. This won't always be the case, but we can actually do something with that.\n",
    "\n",
    "After that, we gettin' fancy! When using a DictReader, it reads in the first row of the CSV file and interprets them as field names. From there, if you iterate through the file, each row will be a dictionary, where the keys are the field names, and the values are the corresponding value for that row.\n",
    "\n",
    "Great job getting this far! This should be all the absolute basics you need for writing simple Python programs. "
   ]
  }
 ],
 "metadata": {
  "kernelspec": {
   "display_name": "Python 3",
   "language": "python",
   "name": "python3"
  },
  "language_info": {
   "codemirror_mode": {
    "name": "ipython",
    "version": 3
   },
   "file_extension": ".py",
   "mimetype": "text/x-python",
   "name": "python",
   "nbconvert_exporter": "python",
   "pygments_lexer": "ipython3",
   "version": "3.7.0"
  }
 },
 "nbformat": 4,
 "nbformat_minor": 2
}
