{
 "cells": [
  {
   "cell_type": "markdown",
   "metadata": {},
   "source": [
    "# Reading Files\n",
    "Now for the good stuff. So let's say you got some sweet, juicy data off of [Kaggle](https://www.kaggle.com/) or something. That data is gonna be in a file or a collection of files. We're gonna go over how to get a hold of that data to do all the things with it."
   ]
  },
  {
   "cell_type": "code",
   "execution_count": 1,
   "metadata": {},
   "outputs": [],
   "source": [
    "from pathlib import Path"
   ]
  },
  {
   "cell_type": "markdown",
   "metadata": {},
   "source": [
    "Surprise! What's this? It's a module. Modules are magical and terrifying. Modules are libraries of code to do stuff for you, since we're not here to reinvent the wheel. `Path` is a new thing in Python 3 (I had to look it up) that allows you to get the filesystem path of a file. Since I don't know exactly how you're going to be running this program, I'm going to use this to make sure I'm in the correct directory (the directory of this script) "
   ]
  },
  {
   "cell_type": "code",
   "execution_count": 2,
   "metadata": {},
   "outputs": [
    {
     "ename": "NameError",
     "evalue": "name '__file__' is not defined",
     "output_type": "error",
     "traceback": [
      "\u001b[1;31m---------------------------------------------------------------------------\u001b[0m",
      "\u001b[1;31mNameError\u001b[0m                                 Traceback (most recent call last)",
      "\u001b[1;32m<ipython-input-2-e08e6e70f20e>\u001b[0m in \u001b[0;36m<module>\u001b[1;34m()\u001b[0m\n\u001b[1;32m----> 1\u001b[1;33m \u001b[0mscript_dir\u001b[0m \u001b[1;33m=\u001b[0m \u001b[0mPath\u001b[0m\u001b[1;33m(\u001b[0m\u001b[0m__file__\u001b[0m\u001b[1;33m)\u001b[0m\u001b[1;33m.\u001b[0m\u001b[0mresolve\u001b[0m\u001b[1;33m(\u001b[0m\u001b[1;33m)\u001b[0m\u001b[1;33m.\u001b[0m\u001b[0mparent\u001b[0m\u001b[1;33m\u001b[0m\u001b[0m\n\u001b[0m\u001b[0;32m      2\u001b[0m \u001b[0mprint\u001b[0m\u001b[1;33m(\u001b[0m\u001b[1;34m'script_dir:'\u001b[0m\u001b[1;33m,\u001b[0m \u001b[0mscript_dir\u001b[0m\u001b[1;33m)\u001b[0m\u001b[1;33m\u001b[0m\u001b[0m\n",
      "\u001b[1;31mNameError\u001b[0m: name '__file__' is not defined"
     ]
    }
   ],
   "source": [
    "script_dir = Path(__file__).resolve().parent\n",
    "print('script_dir:', script_dir)"
   ]
  },
  {
   "cell_type": "markdown",
   "metadata": {},
   "source": [
    "This gets you the directory of the this script. The `__file__` variable is a built-in variable that has the location of the current file. Using `pathlib`, we can create a path out of this, get the absolute path on the filesystem, then ask for the parent directory. There's a little bit of object-oriented stuff going on here, so please pardon a bit of hand-waving"
   ]
  },
  {
   "cell_type": "code",
   "execution_count": 3,
   "metadata": {},
   "outputs": [
    {
     "ename": "NameError",
     "evalue": "name 'script_dir' is not defined",
     "output_type": "error",
     "traceback": [
      "\u001b[1;31m---------------------------------------------------------------------------\u001b[0m",
      "\u001b[1;31mNameError\u001b[0m                                 Traceback (most recent call last)",
      "\u001b[1;32m<ipython-input-3-48bd7688f98d>\u001b[0m in \u001b[0;36m<module>\u001b[1;34m()\u001b[0m\n\u001b[1;32m----> 1\u001b[1;33m \u001b[0msample_file_path\u001b[0m \u001b[1;33m=\u001b[0m \u001b[0mscript_dir\u001b[0m\u001b[1;33m.\u001b[0m\u001b[0mjoinpath\u001b[0m\u001b[1;33m(\u001b[0m\u001b[1;34m'supporting_files'\u001b[0m\u001b[1;33m)\u001b[0m    \u001b[1;33m.\u001b[0m\u001b[0mjoinpath\u001b[0m\u001b[1;33m(\u001b[0m\u001b[1;34m'sample_file.txt'\u001b[0m\u001b[1;33m)\u001b[0m\u001b[1;33m\u001b[0m\u001b[0m\n\u001b[0m\u001b[0;32m      2\u001b[0m \u001b[0mprint\u001b[0m\u001b[1;33m(\u001b[0m\u001b[1;34m'sample_file_path:'\u001b[0m\u001b[1;33m,\u001b[0m \u001b[0msample_file_path\u001b[0m\u001b[1;33m)\u001b[0m\u001b[1;33m\u001b[0m\u001b[0m\n",
      "\u001b[1;31mNameError\u001b[0m: name 'script_dir' is not defined"
     ]
    }
   ],
   "source": [
    "sample_file_path = script_dir.joinpath('supporting_files')\\\n",
    "    .joinpath('sample_file.txt')\n",
    "print('sample_file_path:', sample_file_path)"
   ]
  },
  {
   "cell_type": "markdown",
   "metadata": {},
   "source": [
    "At this point, we have a `Path` that points to our sample file. Pardon the backslash followed by a newline and tab. That's just a way to keep the line from getting too long. Now, let's open up our file."
   ]
  },
  {
   "cell_type": "code",
   "execution_count": 6,
   "metadata": {},
   "outputs": [
    {
     "ename": "NameError",
     "evalue": "name 'sample_file_path' is not defined",
     "output_type": "error",
     "traceback": [
      "\u001b[1;31m---------------------------------------------------------------------------\u001b[0m",
      "\u001b[1;31mNameError\u001b[0m                                 Traceback (most recent call last)",
      "\u001b[1;32m<ipython-input-6-1fb59f24201f>\u001b[0m in \u001b[0;36m<module>\u001b[1;34m()\u001b[0m\n\u001b[1;32m----> 1\u001b[1;33m \u001b[1;32mwith\u001b[0m \u001b[0msample_file_path\u001b[0m\u001b[1;33m.\u001b[0m\u001b[0mopen\u001b[0m\u001b[1;33m(\u001b[0m\u001b[1;33m)\u001b[0m \u001b[1;32mas\u001b[0m \u001b[0mfile\u001b[0m\u001b[1;33m:\u001b[0m\u001b[1;33m\u001b[0m\u001b[0m\n\u001b[0m\u001b[0;32m      2\u001b[0m     \u001b[0mprint\u001b[0m\u001b[1;33m(\u001b[0m\u001b[1;34m'contents of sample_file.txt:'\u001b[0m\u001b[1;33m,\u001b[0m \u001b[0mfile\u001b[0m\u001b[1;33m.\u001b[0m\u001b[0mread\u001b[0m\u001b[1;33m(\u001b[0m\u001b[1;33m)\u001b[0m\u001b[1;33m)\u001b[0m\u001b[1;33m\u001b[0m\u001b[0m\n",
      "\u001b[1;31mNameError\u001b[0m: name 'sample_file_path' is not defined"
     ]
    }
   ],
   "source": [
    "with sample_file_path.open() as file:"
   ]
  },
  {
   "cell_type": "markdown",
   "metadata": {},
   "source": [
    "At this point, we use our `Path` to open up the file and store it in a variable called `file`. This `with ... as ...:` is specific to opening streaming data. Streaming data could be something like a file or a network connection to some other data. The `with` indicates that we're opening a stream, and the indented block beneath it should be executed while the stream (file) is open. When the indentation stops, the stream (file) will be closed an inaccessible. This is useful because the operating system may put a lock on the file while it's open, preventing other programs from accessing it. Additionally, having files open costs some amount of resources, so you want to make sure to reclaim the resources spent opening the file as quickly as possible. The `with` construct just makes it easier. It does all the closing and checking for you   "
   ]
  },
  {
   "cell_type": "code",
   "execution_count": null,
   "metadata": {},
   "outputs": [],
   "source": [
    "    print('contents of sample_file.txt:', file.read())"
   ]
  },
  {
   "cell_type": "markdown",
   "metadata": {},
   "source": [
    "Tada! You've read the contents of the file. But what if you want to read the file? We can't actually do that here. The way we've opened this file, we can only read from it. Honestly, you probably won't need to edit files terrible much, so we're not gonna worry about that for now. Let's try working with a file line by line"
   ]
  },
  {
   "cell_type": "code",
   "execution_count": null,
   "metadata": {},
   "outputs": [],
   "source": [
    "sample_file_path = sample_file_path.parent.joinpath('multiline.txt')\n",
    "with sample_file_path.open() as file:"
   ]
  },
  {
   "cell_type": "markdown",
   "metadata": {},
   "source": [
    "# Okay, we've gone back to the supporting file directory and grabbed the\n",
    "    # file multiline.txt. We've opened it up, and now we can work with it\n",
    "\n",
    "    "
   ]
  },
  {
   "cell_type": "code",
   "execution_count": null,
   "metadata": {},
   "outputs": [],
   "source": [
    "    line_list = [] # Ignore this for now :)\n",
    "\n",
    "    for line in file:\n",
    "        print('line:', line)"
   ]
  },
  {
   "cell_type": "markdown",
   "metadata": {},
   "source": [
    "# When you iterate over a file like it was a collection, Python does\n",
    "        # some smart stuff for you. It treats each line like an item in\n",
    "        # a collection. You'll notice the output may look a little weird.\n",
    "        # Python is adding a newline character at the end, and this is\n",
    "        # shown when you print it. Regardless, this is a good way to get\n",
    "        # data out of a file when you want to work line by line. If you're\n",
    "        # going to be doing some heavy lifting, I recommend you read all the\n",
    "        # data into a list, let the file close, then play with the list\n"
   ]
  },
  {
   "cell_type": "code",
   "execution_count": null,
   "metadata": {},
   "outputs": [],
   "source": [
    "        line_list.append(line.strip())\n",
    "print('line_list:', line_list)"
   ]
  },
  {
   "cell_type": "markdown",
   "metadata": {},
   "source": [
    "\n",
    "# Remember that line_list variable we setup? We wanted to create the\n",
    "# list before we started looping. If we created it inside the loop, it\n",
    "# would be recreated every time the loop ran, giving us a list with only\n",
    "# the last line. Instead, we create an empty list before looping, then\n",
    "# we append the line each time we loop through. The strip() function\n",
    "# strips any whitespace off the end of a string, including whitespace.\n",
    "# Now, we have a nice, clean list of lines from the file, and the file is closed\n",
    "\n",
    "# So... that's all good, but we can do better. Chances are, the data you're\n",
    "# grabbing is in some sort of format, most like a CSV or comma separated values.\n",
    "# Luckily, Python has a built-in library specifically for that. Let's try it\n"
   ]
  },
  {
   "cell_type": "code",
   "execution_count": null,
   "metadata": {},
   "outputs": [],
   "source": [
    "sample_file_path = sample_file_path.parent.joinpath('people.csv')"
   ]
  },
  {
   "cell_type": "markdown",
   "metadata": {},
   "source": [
    "# Get the path to our file. This is my first time using pathlib... It's WAY\n",
    "# easier than how we used to do it. Back in my day, we had to count out\n",
    "# bits up a one mile hill covered in snow and convert the binary to text\n",
    "# #oldGeezerThings\n"
   ]
  },
  {
   "cell_type": "code",
   "execution_count": null,
   "metadata": {},
   "outputs": [],
   "source": [
    "\n",
    "import csv\n",
    "with sample_file_path.open() as file:\n",
    "    csv_reader = csv.reader(file)\n",
    "    "
   ]
  },
  {
   "cell_type": "markdown",
   "metadata": {},
   "source": [
    "# Oh baby. Now we're cooking with fire. First, we need to import the csv\n",
    "    # library to get out our bag of fairy dust. Next, we just say fuck it,\n",
    "    # and dump the file into our fairy dust bag's reader() function.\n",
    "    # The csv library does different things for reading and writing, but\n",
    "    # you're likely going to be more concerned with reading. After that, we\n",
    "    # can iterate through it just like we would a file. This time, however,\n",
    "    # each iteration will give us a list\n"
   ]
  },
  {
   "cell_type": "code",
   "execution_count": null,
   "metadata": {},
   "outputs": [],
   "source": [
    "\n",
    "    for row in csv_reader:\n",
    "        print('csv row:', row)\n",
    "    "
   ]
  },
  {
   "cell_type": "markdown",
   "metadata": {},
   "source": [
    "# Nice! Each row is now a list we can do stuff with. But hey, notice how\n",
    "    # the first list is actually the field names for the remaining rows. This\n",
    "    # won't always be the case, but we can actually do something with that\n"
   ]
  },
  {
   "cell_type": "code",
   "execution_count": null,
   "metadata": {},
   "outputs": [],
   "source": [
    "    file.seek(0)\n",
    "    # This puts us back at the beginning of the file\n",
    "\n",
    "    csv_reader = csv.DictReader(file)\n",
    "    for row in csv_reader:\n",
    "        print('row name:', row['name'])\n",
    "        print('row email:', row['email'])\n",
    "        print('row profession:', row['profession'])\n",
    "        print('---------------------')"
   ]
  },
  {
   "cell_type": "markdown",
   "metadata": {},
   "source": [
    "\n",
    "# Now we gettin' fancy! When using a DictReader, it reads in the first row of\n",
    "# the CSV file and interprets them as field names. From there, if you iterate\n",
    "# through the file, each row will be a dictionary, where the keys are the\n",
    "# field names, and the values are the corresponding value for that row\n",
    "\n",
    "# Great job getting this far! This should be all the absolute basics you need\n",
    "# for writing simple Python programs. "
   ]
  }
 ],
 "metadata": {
  "kernelspec": {
   "display_name": "Python 3",
   "language": "python",
   "name": "python3"
  },
  "language_info": {
   "codemirror_mode": {
    "name": "ipython",
    "version": 3
   },
   "file_extension": ".py",
   "mimetype": "text/x-python",
   "name": "python",
   "nbconvert_exporter": "python",
   "pygments_lexer": "ipython3",
   "version": "3.7.0"
  }
 },
 "nbformat": 4,
 "nbformat_minor": 2
}
