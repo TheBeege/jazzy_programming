{
 "cells": [
  {
   "cell_type": "markdown",
   "metadata": {},
   "source": [
    "# Math and Data Types\n",
    "This might be old news to you, as much of things so far has been, but it may be a nice refresher. Let's run through it."
   ]
  },
  {
   "cell_type": "code",
   "execution_count": 4,
   "metadata": {},
   "outputs": [
    {
     "name": "stdout",
     "output_type": "stream",
     "text": [
      "hi\n"
     ]
    }
   ],
   "source": [
    "print(\"hi\")"
   ]
  },
  {
   "cell_type": "markdown",
   "metadata": {},
   "source": [
    "This is the `print()` function. It prints stuff out to terminal."
   ]
  },
  {
   "cell_type": "code",
   "execution_count": 3,
   "metadata": {},
   "outputs": [
    {
     "name": "stdout",
     "output_type": "stream",
     "text": [
      "hi there\n"
     ]
    }
   ],
   "source": [
    "print(\"hi\", \"there\")"
   ]
  },
  {
   "cell_type": "markdown",
   "metadata": {},
   "source": [
    "The `print` function takes multiple arguments (also called parameters). These arguments go between the parenthesis `()`. Each argument is separated by a comma. For `print`, a space is put between each argument. You could just type \"hi there\", but I just wanted to demonstrate how this worked."
   ]
  },
  {
   "cell_type": "code",
   "execution_count": 5,
   "metadata": {},
   "outputs": [],
   "source": [
    "x = 5"
   ]
  },
  {
   "cell_type": "markdown",
   "metadata": {},
   "source": [
    "This is a variable. We've created a variable called `x`, and we've set its initial value to `5`. This value can change. When referenced, the value of the variable is used. What does that mean?"
   ]
  },
  {
   "cell_type": "code",
   "execution_count": 6,
   "metadata": {},
   "outputs": [
    {
     "name": "stdout",
     "output_type": "stream",
     "text": [
      "x is 5\n"
     ]
    }
   ],
   "source": [
    "print(\"x is\", x)"
   ]
  },
  {
   "cell_type": "markdown",
   "metadata": {},
   "source": [
    "This means that `5` will take the place of the `x` outside quotations here. When there is text inside either single or double quotation marks, it is treated as text data. We call this a string. Why? Each letter/number/punctuation/etc is called a character. A string is a sequence (or string) of characters put together. If there is text outside of quotations, Python attempts to treat it as code. In this case, it sees `x` outside of quotations, so it looks for either a variable or function called `x`. It finds the variable we defined above, and it substitutes the value of the variable into the print function.\n",
    "\n",
    "We can also modify variables."
   ]
  },
  {
   "cell_type": "code",
   "execution_count": 7,
   "metadata": {},
   "outputs": [
    {
     "name": "stdout",
     "output_type": "stream",
     "text": [
      "added 1 to x: 6\n"
     ]
    }
   ],
   "source": [
    "x = x + 1\n",
    "print(\"added 1 to x:\", x)"
   ]
  },
  {
   "cell_type": "markdown",
   "metadata": {},
   "source": [
    "You'll see that x is now `6`. In line 18, we set the new value of `x` to the existing value of `x` plus one. Some people find this remarkably difficult to understand at first. Just remembered that when we're doing assignment (or setting the value of things), whatever is right of the equals sign happens first. In this case, `x + 1` is evaluated to `5 + 1`, which then becomes `6`. Then `x` is set to `6`.\n",
    "\n",
    "We can also be a liiiiittle lazier\n"
   ]
  },
  {
   "cell_type": "code",
   "execution_count": 8,
   "metadata": {},
   "outputs": [
    {
     "name": "stdout",
     "output_type": "stream",
     "text": [
      "added 1 more to x: 7\n"
     ]
    }
   ],
   "source": [
    "x += 1\n",
    "print(\"added 1 more to x:\", x)"
   ]
  },
  {
   "cell_type": "markdown",
   "metadata": {},
   "source": [
    "This is the same as the previous code bloc, just written differently.\n",
    "\n",
    "Let's take a step aside for a moment. Notice that `x` was set in the previous code block, but we were able to use it again here. Jupyter Notebook maintains state within a notebook. Remember talking about how each code block is numbered in the order it was ran? Since the state of the notebook is maintained, this ordering helps you understand the current state of the notebook. If we run code blocks in a different order, the values of variables would be set differently. Jupyter Notebook denotes this to reduce potential confusion.\n",
    "\n",
    "Moving on, you can also subtract\n"
   ]
  },
  {
   "cell_type": "code",
   "execution_count": 9,
   "metadata": {},
   "outputs": [
    {
     "name": "stdout",
     "output_type": "stream",
     "text": [
      "removed 1 from x: 6\n"
     ]
    }
   ],
   "source": [
    "x -= 1\n",
    "print(\"removed 1 from x:\", x)"
   ]
  },
  {
   "cell_type": "markdown",
   "metadata": {},
   "source": [
    "You can multiply"
   ]
  },
  {
   "cell_type": "code",
   "execution_count": 10,
   "metadata": {},
   "outputs": [
    {
     "name": "stdout",
     "output_type": "stream",
     "text": [
      "multiplied x by 2: 12\n"
     ]
    }
   ],
   "source": [
    "x *= 2\n",
    "print(\"multiplied x by 2:\", x)"
   ]
  },
  {
   "cell_type": "markdown",
   "metadata": {},
   "source": [
    "You can also divide"
   ]
  },
  {
   "cell_type": "code",
   "execution_count": 11,
   "metadata": {},
   "outputs": [
    {
     "name": "stdout",
     "output_type": "stream",
     "text": [
      "divided x by 2: 6.0\n"
     ]
    }
   ],
   "source": [
    "x /= 2\n",
    "print(\"divided x by 2:\", x)"
   ]
  },
  {
   "cell_type": "markdown",
   "metadata": {},
   "source": [
    "You'll notice that `x` now appears as `6.0` instead of `6`. We'll cover why in a minute\n",
    "\n",
    "You can also floor divide, which cuts off any non-whole-number amount"
   ]
  },
  {
   "cell_type": "code",
   "execution_count": 12,
   "metadata": {},
   "outputs": [
    {
     "name": "stdout",
     "output_type": "stream",
     "text": [
      "x floor divided by 4: 1.0\n"
     ]
    }
   ],
   "source": [
    "print(\"x floor divided by 4:\", x // 4)"
   ]
  },
  {
   "cell_type": "markdown",
   "metadata": {},
   "source": [
    "There's also the modulo operator, which will give you the remainder of a division operation"
   ]
  },
  {
   "cell_type": "code",
   "execution_count": 13,
   "metadata": {},
   "outputs": [
    {
     "name": "stdout",
     "output_type": "stream",
     "text": [
      "x modulo 4: 2.0\n"
     ]
    }
   ],
   "source": [
    "print(\"x modulo 4:\", x % 4)"
   ]
  },
  {
   "cell_type": "markdown",
   "metadata": {},
   "source": [
    "Okay, now why did dividing give us `6.0` instead of `6`? This is due to the concept of data types. Python tries to make things such that you don't need to worry about data types, but there really is no escaping it. Initially, `x` is an integer - a whole number. However, the division operation does not produce an integer. It produces a floating point number, or a decimal. Normally, I'd skip what floating point means, but if you're doing number crunching, it's important to know. Let's say we have a number like this: `436,312,683,904,124,673`. Big number. The computer doesn't have unlimited data. It has limited amounts of data it can store, and it wants to be efficient. Representing that number in binary would be quite large. Similar to laboratory sciences, we use approximations. In lab science, we might represent this number as `4.36312 x 10^16`. We cut off the remaining numbers because they're not significant with respect to the size of this number. Computers do similar things. A computer only wants to use so much data to represent numbers, so it will only store the most significant digits and a reference of where the decimal (or point) is located. In this method, the point can float or move around depending on the size of the number. Hence, we call this a floating point number. This is the default way to represent decimals in Python. Since division may not return a whole number, it outputs a floating point in all cases for purposes of consistency. Other mathematical operations return the same data type as whatever was input. The reason for this is that your code likely doesn't expect data to change type terribly often. Division is kind of a special case in this regard.\n",
    "\n",
    "So how do we get it back to an integer?\n"
   ]
  },
  {
   "cell_type": "code",
   "execution_count": 14,
   "metadata": {},
   "outputs": [
    {
     "name": "stdout",
     "output_type": "stream",
     "text": [
      "x back as an integer: 6\n"
     ]
    }
   ],
   "source": [
    "print(\"x back as an integer:\", int(x))"
   ]
  },
  {
   "cell_type": "markdown",
   "metadata": {},
   "source": [
    "Integer in python is referenced as `int`. There is an `int` function that takes whatever the input is and converts it to an integer, if possible. Similar functions exist for `float` and `str` (string). Play with these and see what you get.\n",
    "\n",
    "The last thing to cover is comments. Comments are text within your code files that isn't run. This is useful for temporarily disabling code or for adding notes within your code. With Jupyter, you may think that comments may not be necessary, but there are cases where you would want some body of code to be in continuous block, run as an atomic unit, rather than split up into smaller code blocks. To write a comment, just toss a `#` before the code you don't want executed. Everything after the `#` on that line will be ignored by Python."
   ]
  },
  {
   "cell_type": "code",
   "execution_count": 16,
   "metadata": {},
   "outputs": [],
   "source": [
    "# This does nothing!"
   ]
  },
  {
   "cell_type": "markdown",
   "metadata": {},
   "source": [
    "## Now it's Your Turn\n"
   ]
  },
  {
   "cell_type": "markdown",
   "metadata": {},
   "source": [
    "Now that you've got some basics down, try it out yourself. Throughout this, I'll have code blocks for you to run. They'll give you feedback on whether what you've written is correct. Let's dive in.\n",
    "\n",
    "### Variable Setting and Basic Math\n",
    "In the below code block, between the noted comments, set variables `m`, `x`, and `b`. Next, calculate a new variable `y` using the [formula for a line](https://www.mathsisfun.com/equation_of_line.html) (I'm trying to avoid writing it here)."
   ]
  },
  {
   "cell_type": "code",
   "execution_count": null,
   "metadata": {},
   "outputs": [],
   "source": [
    "# SET M, X, AND B HERE\n",
    "\n",
    "# DONE SETTING M, X, AND B\n",
    "print('m:', m)\n",
    "print('x:', x)\n",
    "print('b:', b)\n",
    "\n",
    "# SET Y HERE\n",
    "\n",
    "# DONE SETTING Y\n",
    "print('y:', y)"
   ]
  }
 ],
 "metadata": {
  "kernelspec": {
   "display_name": "Python 3",
   "language": "python",
   "name": "python3"
  },
  "language_info": {
   "codemirror_mode": {
    "name": "ipython",
    "version": 3
   },
   "file_extension": ".py",
   "mimetype": "text/x-python",
   "name": "python",
   "nbconvert_exporter": "python",
   "pygments_lexer": "ipython3",
   "version": "3.7.0"
  }
 },
 "nbformat": 4,
 "nbformat_minor": 2
}
