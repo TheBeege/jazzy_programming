{
 "cells": [
  {
   "cell_type": "markdown",
   "metadata": {},
   "source": [
    "# Classes and Objects\n",
    "\n",
    "As mentioned in the readme, objects are a way of modeling the world. Similar to the real world, there are classes, or classifications, or objects.  A class defines what an object contains. You can think of a class like a blueprint and an object like the building constructed from the blueprint. So what does a class look like?"
   ]
  },
  {
   "cell_type": "code",
   "execution_count": 1,
   "metadata": {},
   "outputs": [],
   "source": [
    "class Car:\n",
    "    pass"
   ]
  },
  {
   "cell_type": "markdown",
   "metadata": {},
   "source": [
    "This is minimum amount of code necessary to define a class. It uses the keyword `class` to tell Python we're defining a new class. `Car` is the name of the class, and the colon `:` tells Python we're going to start defining what is inside the class. The `pass` keyword just means, \"I'm lazy and don't feel like doing this right now.\" I'm actually serious. It's what you do when you want Python to not complain, but you're not going to define any code inside the code block.\n",
    "\n",
    "Okay, so now that we've defined a class of car, how do we create a car object? Well, like a building, we construct it."
   ]
  },
  {
   "cell_type": "code",
   "execution_count": 2,
   "metadata": {},
   "outputs": [
    {
     "name": "stdout",
     "output_type": "stream",
     "text": [
      "my_car type:  Car\n"
     ]
    }
   ],
   "source": [
    "my_car = Car()\n",
    "print(\"my_car type:\", my_car.__class__.__name__)"
   ]
  },
  {
   "cell_type": "markdown",
   "metadata": {},
   "source": [
    "By calling a class name as if it were a method, we implicitly execute the class's constructor method. The constructor method creates a new object using the definition provided by the class. This might sound like a lot of jargon because it is, but these are the terms we speak in and that need to be understood. \n",
    "\n",
    "Let's break down some of these definitions for easier consumption and review:\n",
    "* _object_ - a thing in code that contains its own variables and methods and exists distinctly from anything else\n",
    "* _encapsulation_ - the idea that an object's variables and methods are distinct from other code, i.e. changing one object's variables won't affect any other object\n",
    "* _class_ - like a classification, it is a blueprint of what an object is like\n",
    "* _constructor_ - the process of creating a new object from its class; this is also what we call the method that runs when we create the new object\n",
    "\n",
    "What if we want our Car to have some sort of attributes? Maybe we want it to have a color. To do that, we need to define a custom constructor and set a variable for the color."
   ]
  },
  {
   "cell_type": "code",
   "execution_count": 4,
   "metadata": {},
   "outputs": [
    {
     "name": "stdout",
     "output_type": "stream",
     "text": [
      "my car's color: Red\n"
     ]
    }
   ],
   "source": [
    "class Car:\n",
    "    def __init__(self):\n",
    "        self.color = 'Red'\n",
    "        \n",
    "my_car = Car()\n",
    "print(\"my car's color:\", my_car.color)"
   ]
  },
  {
   "cell_type": "markdown",
   "metadata": {},
   "source": [
    "This is where things can start to get confusing. Notice how we're defining a method (see `def`) inside the class. Remember, objects can have their own methods. This is how we accomplish that. \n",
    "\n",
    "The `__init__` method is our constructor method. The double underscores `_` means that we're defining an implicit method. This means that `__init__` is not a method we'll ever call by name; Python will call it via some other mechanism. In this case, `__init__` is the constructor method, so it will be called whenever Python constructs a new `Car` object.\n",
    "\n",
    "The `self` parameter is a mandatory parameter that represents the newly created object. By doing `self.some_variable`, we can define a new variable on the object. In the case above, we're saying that any `Car` object will have a variable named `color` that will contain the string `'Red'`. Anytime we access a `Car` object, often via a variable, we can use `.color` to access that `color` variable contained by the `Car` object. At that point, it acts like any other variable.\n",
    "\n",
    "But this isn't terribly useful. Not all cars are red. What if we want to let programmers decide on the color of the car when they construct it? Well, `__init__` is a method like any other. We can give it additional parameters."
   ]
  },
  {
   "cell_type": "code",
   "execution_count": 5,
   "metadata": {},
   "outputs": [
    {
     "name": "stdout",
     "output_type": "stream",
     "text": [
      "my new car's color: drunk-tank\n"
     ]
    }
   ],
   "source": [
    "class Car:\n",
    "    def __init__(self, color):\n",
    "        self.color = color\n",
    "        \n",
    "my_car = Car('drunk-tank')  # Seriously, that's an actual color. I think you'll like it\n",
    "print(\"my new car's color:\", my_car.color)"
   ]
  },
  {
   "cell_type": "markdown",
   "metadata": {},
   "source": [
    "Fabulous. Note that we can use the same name for the parameter as we use for the object's new variable. The `color` parameter is distinct from `self.color` - these are two separate variables, so there's no confusion.\n",
    "\n",
    "Using this, you can create objects that have a number of various properties (variables). But what about methods?"
   ]
  },
  {
   "cell_type": "code",
   "execution_count": 6,
   "metadata": {},
   "outputs": [
    {
     "name": "stdout",
     "output_type": "stream",
     "text": [
      "I'm a brand new car in a fantastic shade of red\n"
     ]
    }
   ],
   "source": [
    "class Car:\n",
    "    def __init__(self, color):\n",
    "        self.color = color\n",
    "    \n",
    "    def print_about_me(self):\n",
    "        print(\"I'm a brand new car in a fantastic shade of\", self.color)\n",
    "\n",
    "new_car = Car('red')\n",
    "new_car.print_about_me()"
   ]
  },
  {
   "cell_type": "markdown",
   "metadata": {},
   "source": [
    "By defining new methods at the correct indentation below the class definition, we can add new methods to our `Car` object. From there, we can call them on any variable containing a `Car` object.\n",
    "\n",
    "Quickly, let's demonstrate that encapsulation stuff a bit."
   ]
  },
  {
   "cell_type": "code",
   "execution_count": 8,
   "metadata": {},
   "outputs": [
    {
     "name": "stdout",
     "output_type": "stream",
     "text": [
      "I'm a brand new car in a fantastic shade of fuschia\n",
      "color of other car: fuschia\n",
      "I'm a brand new car in a fantastic shade of red\n",
      "color of new car: red\n"
     ]
    }
   ],
   "source": [
    "other_car = Car('fuschia')\n",
    "other_car.print_about_me()\n",
    "print(\"color of other car:\", other_car.color)\n",
    "new_car.print_about_me()\n",
    "print(\"color of new car:\", new_car.color)"
   ]
  },
  {
   "cell_type": "markdown",
   "metadata": {},
   "source": [
    "Notice how calling the same function on two different objects produces different results. This is due to encapsulation. Both `Car`s have a `color` property, but each is distinct from one another. Whether referencing the `color` property from inside the class, i.e. within a method, or from the object on the outside, each will be independent of any other object's `color` property. "
   ]
  }
 ],
 "metadata": {
  "kernelspec": {
   "display_name": "Python 3",
   "language": "python",
   "name": "python3"
  },
  "language_info": {
   "codemirror_mode": {
    "name": "ipython",
    "version": 3
   },
   "file_extension": ".py",
   "mimetype": "text/x-python",
   "name": "python",
   "nbconvert_exporter": "python",
   "pygments_lexer": "ipython3",
   "version": "3.7.0"
  }
 },
 "nbformat": 4,
 "nbformat_minor": 2
}
